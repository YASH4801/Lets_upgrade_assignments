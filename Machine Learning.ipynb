{
 "cells": [
  {
   "cell_type": "code",
   "execution_count": null,
   "metadata": {},
   "outputs": [],
   "source": [
    "import numpy as np\n"
   ]
  },
  {
   "cell_type": "markdown",
   "metadata": {},
   "source": [
    "Q1 - Solution"
   ]
  },
  {
   "cell_type": "code",
   "execution_count": null,
   "metadata": {},
   "outputs": [],
   "source": [
    "arr = np.array([range(-10, 10)])\n",
    "arr"
   ]
  },
  {
   "cell_type": "markdown",
   "metadata": {},
   "source": [
    "Q2 - Solution"
   ]
  },
  {
   "cell_type": "code",
   "execution_count": null,
   "metadata": {},
   "outputs": [],
   "source": [
    "D = np.array(range(18))+3\n",
    "D"
   ]
  },
  {
   "cell_type": "markdown",
   "metadata": {},
   "source": [
    "Q2 - a"
   ]
  },
  {
   "cell_type": "code",
   "execution_count": null,
   "metadata": {},
   "outputs": [],
   "source": [
    "x = D[1:10]\n",
    "x"
   ]
  },
  {
   "cell_type": "markdown",
   "metadata": {},
   "source": [
    "Q2 - b"
   ]
  },
  {
   "cell_type": "code",
   "execution_count": null,
   "metadata": {},
   "outputs": [],
   "source": [
    "y = D[9:0:-1]\n",
    "y"
   ]
  },
  {
   "cell_type": "markdown",
   "metadata": {},
   "source": [
    "Q2 - c"
   ]
  },
  {
   "cell_type": "code",
   "execution_count": null,
   "metadata": {},
   "outputs": [],
   "source": [
    "z = D[::-1]\n",
    "z"
   ]
  },
  {
   "cell_type": "markdown",
   "metadata": {},
   "source": [
    "Q3 - Answer"
   ]
  },
  {
   "cell_type": "markdown",
   "metadata": {},
   "source": [
    "Some important points about Numpy arrays:\n",
    "\n",
    "* We can create a N-dimensional array in python using numpy.array().\n",
    "* Array are by default Homogeneous, which means data inside an 8 array must be of the same Datatype. (Note you can also create a structured array in python).\n",
    "* Element wise operation is possible.\n",
    "* Numpy array has the various function, methods, and variables, to ease our task of matrix computation.\n",
    "* Elements of an array are stored contiguously in memory. For example, all rows of a two dimensioned array must have the same number of columns. Or a three dimensioned array must have the same number of rows and columns on each card."
   ]
  },
  {
   "cell_type": "markdown",
   "metadata": {},
   "source": [
    "Q4 - Answer"
   ]
  },
  {
   "cell_type": "markdown",
   "metadata": {},
   "source": [
    "The primitive types supported are tied closely to those in C:\n",
    "\n",
    "# Numpy type\n",
    "\n",
    "# C type\n",
    "\n",
    "# Description\n",
    "\n",
    "* numpy.bool_  /\n",
    "\n",
    "bool    /\n",
    "\n",
    "Boolean (True or False) stored as a byte    /n\n",
    "\n",
    "* numpy.byte    /\n",
    "\n",
    "signed char     /\n",
    "\n",
    "Platform-defined    /\n",
    "\n",
    "* numpy.ubyte\n",
    "\n",
    "unsigned char\n",
    "\n",
    "Platform-defined\n",
    "\n",
    "* numpy.short\n",
    "\n",
    "short\n",
    "\n",
    "Platform-defined\n",
    "\n",
    "* numpy.ushort\n",
    "\n",
    "unsigned short\n",
    "\n",
    "Platform-defined\n",
    "\n",
    "* numpy.intc\n",
    "\n",
    "int\n",
    "\n",
    "Platform-defined\n",
    "\n",
    "* numpy.uintc\n",
    "\n",
    "unsigned int\n",
    "\n",
    "Platform-defined\n",
    "\n",
    "* numpy.int_\n",
    "\n",
    "long\n",
    "\n",
    "Platform-defined\n",
    "\n",
    "* numpy.uint\n",
    "\n",
    "unsigned long\n",
    "\n",
    "Platform-defined\n",
    "\n",
    "* numpy.longlong\n",
    "\n",
    "long long\n",
    "\n",
    "platform-defined\n",
    "\n",
    "* numpy.ulonglong /\n",
    "\n",
    "unsigned long long\n",
    "\n",
    "Platform-defined\n",
    "\n",
    "* numpy.half / numpy.float16\n",
    "\n",
    "Half precision float: sign bit, 5 bits exponent, 10 bits mantissa\n",
    "\n",
    "* numpy.single\n",
    "\n",
    "float\n",
    "\n",
    "Platform-defined single precision float: typically sign bit, 8 bits exponent, 23 bits mantissa\n",
    "\n",
    "* numpy.double\n",
    "\n",
    "double\n",
    "\n",
    "Platform-defined double precision float: typically sign bit, 11 bits exponent, 52 bits mantissa.\n",
    "\n",
    "* numpy.longdouble\n",
    "\n",
    "long double\n",
    "\n",
    "Platform-defined extended-precision float\n",
    "\n",
    "* numpy.csingle\n",
    "\n",
    "float complex\n",
    "\n",
    "Complex number, represented by two single-precision floats (real and imaginary components)\n",
    "\n",
    "* numpy.cdouble\n",
    "\n",
    "double complex\n",
    "\n",
    "Complex number, represented by two double-precision floats (real and imaginary components).\n",
    "\n",
    "* numpy.clongdouble\n",
    "\n",
    "long double complex\n",
    "\n",
    "Complex number, represented by two extended-precision floats (real and imaginary components).\n",
    "\n",
    "Since many of these have platform-dependent definitions, a set of fixed-size aliases are provided (See Sized aliases)."
   ]
  }
 ],
 "metadata": {
  "interpreter": {
   "hash": "9efce205f64ad363cd9f14615485aca38ee4ef0915866e318aa83c8d0c93f6fc"
  },
  "kernelspec": {
   "display_name": "Python 3.10.2 64-bit",
   "language": "python",
   "name": "python3"
  },
  "language_info": {
   "codemirror_mode": {
    "name": "ipython",
    "version": 3
   },
   "file_extension": ".py",
   "mimetype": "text/x-python",
   "name": "python",
   "nbconvert_exporter": "python",
   "pygments_lexer": "ipython3",
   "version": "3.10.2"
  },
  "orig_nbformat": 4
 },
 "nbformat": 4,
 "nbformat_minor": 2
}
